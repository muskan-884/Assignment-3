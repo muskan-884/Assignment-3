{
 "cells": [
  {
   "cell_type": "code",
   "execution_count": 1,
   "id": "15d3046b-0747-416f-a3f9-6fcfc6281c55",
   "metadata": {},
   "outputs": [
    {
     "name": "stdout",
     "output_type": "stream",
     "text": [
      "0\n",
      "1\n",
      "2\n",
      "3\n"
     ]
    }
   ],
   "source": [
    "\"Q1. Explain with an example each when to use a for loop and a while loop.\"\n",
    "For loop:\n",
    "A for loop is a control flow statement that executes code repeatedly for a particular number\n",
    "of iterations. In this control flow statement, the keyword used is \"for\". The for loop is used\n",
    "when the \"number of iterations is already known.\"\n",
    "\n",
    "\"Syntax of the for Loop\"\n",
    "for value in sequence:  \n",
    "    { code block }  \n",
    "    \n",
    "# Python program to illustrate\n",
    "# Iterating over range 0 to n-1\n",
    "\n",
    "n = 4\n",
    "for i in range(0, n):\n",
    "\tprint(i)\n",
    "\n",
    "\n"
   ]
  },
  {
   "cell_type": "code",
   "execution_count": 2,
   "id": "cdea5d8d-d775-4e03-a604-8b8efd4eb23f",
   "metadata": {},
   "outputs": [
    {
     "name": "stdout",
     "output_type": "stream",
     "text": [
      "1\n",
      "2\n",
      "3\n",
      "4\n"
     ]
    }
   ],
   "source": [
    "While loop:\n",
    "A loop that executes a single statement or a group of statements for the given true\n",
    "condition. The keyword used to represent this loop is \"while\". A \"while\" loop is used when\n",
    "the number of iterations is unknown. The statement repeats itself till the boolean value becomes false. \n",
    "In a while loop, the condition is tested at the start, also known as the pre-test loop.\n",
    "Syntax :\n",
    "while expression:\n",
    "    statement(s)\n",
    "    \n",
    "In [1]:\n",
    "# Example of for loop\n",
    "l = [1, 2, 3,4] # Initialization\n",
    "for i in l: # Condition and Updation\n",
    " print(i)\n"
   ]
  },
  {
   "cell_type": "code",
   "execution_count": 3,
   "id": "821786de-2042-4af0-914c-fd4d581bc5f1",
   "metadata": {},
   "outputs": [
    {
     "name": "stdout",
     "output_type": "stream",
     "text": [
      "1\n",
      "2\n",
      "3\n"
     ]
    }
   ],
   "source": [
    "\n",
    "# Example of while loop\n",
    "i = 1 # Initialization\n",
    "while i < 4: # Condition\n",
    " print(i)\n",
    " i += 1 # Updation"
   ]
  },
  {
   "cell_type": "code",
   "execution_count": 1,
   "id": "0f50bedf-43c0-4117-8b9e-88dc9a5465e6",
   "metadata": {},
   "outputs": [
    {
     "name": "stdout",
     "output_type": "stream",
     "text": [
      "Sum of Natural Numbers is 55\n",
      "Product of Natural Numbers is 3628800\n"
     ]
    }
   ],
   "source": [
    "Q2. Write a python program to print the sum and product of the first 10 natural numbers using for\n",
    " and while loop.\n",
    "    \n",
    "\"Using While loop\"\n",
    "summ=0\n",
    "product=1\n",
    "n=1\n",
    "while n<=10:\n",
    "    summ=summ+n\n",
    "    product=product*n\n",
    "    n=n+1\n",
    "    \n",
    "print(\"Sum of Natural Numbers is\",summ)\n",
    "print(\"Product of Natural Numbers is\",product)"
   ]
  },
  {
   "cell_type": "code",
   "execution_count": 2,
   "id": "37e57274-d3a9-4bc9-892c-f3310c50098d",
   "metadata": {},
   "outputs": [
    {
     "name": "stdout",
     "output_type": "stream",
     "text": [
      "Sum of Natural Numbers is 55\n",
      "Product of Natural Numbers is 3628800\n"
     ]
    }
   ],
   "source": [
    "\"Using For Loop\"\n",
    "sum1=0\n",
    "product1=1\n",
    "for i in range(1,11):\n",
    "    sum1=sum1+i\n",
    "    product1=product1*i\n",
    "print(\"Sum of Natural Numbers is\",sum1)\n",
    "print(\"Product of Natural Numbers is\",product1)\n",
    "    "
   ]
  },
  {
   "cell_type": "code",
   "execution_count": 7,
   "id": "544f9795-315e-4a15-85a9-83a63527676c",
   "metadata": {},
   "outputs": [
    {
     "name": "stdin",
     "output_type": "stream",
     "text": [
      "enter units =  310\n"
     ]
    },
    {
     "name": "stdout",
     "output_type": "stream",
     "text": [
      "Total Electricty Bill Charge = 2250.0 rupees\n"
     ]
    }
   ],
   "source": [
    "# Q3. Create a python program to compute the electricity bill for a household.\n",
    "# The per-unit charges in rupees are as follows: For the first 100 units, the user will be charged Rs. 4.5 per\n",
    "# unit, for the next 100 units, the user will be charged Rs. 6 per unit, and for the next 100 units, the user will\n",
    "# be charged Rs. 10 per unit, After 300 units and above the user will be charged Rs. 20 per unit.\n",
    "# You are required to take the units of electricity consumed in a month from the user as input.\n",
    "\n",
    "unit = int(input(\"enter units = \"))\n",
    "total_charge = 0\n",
    "i = 1\n",
    "while i <= unit:\n",
    "    if i <= 100:\n",
    "        total_charge = total_charge + 4.5\n",
    "    if i > 100 and i <= 200:\n",
    "        total_charge = total_charge + 6\n",
    "    if i > 200 and i <= 300:\n",
    "        total_charge = total_charge + 10\n",
    "    if i > 300:\n",
    "        total_charge = total_charge + 20\n",
    " \n",
    "    i = i+1\n",
    "print(f\"Total Electricty Bill Charge = {total_charge} rupees\")"
   ]
  },
  {
   "cell_type": "code",
   "execution_count": 8,
   "id": "5a93f548-f0aa-412a-bd80-c5538a1341e0",
   "metadata": {},
   "outputs": [],
   "source": [
    "Q4. Create a list of numbers from 1 to 100. Use for loop and while loop to calculate the cube of each\n",
    "number and if the cube of that number is divisible by 4 or 5 then append that number in a list and print\n",
    "that list."
   ]
  },
  {
   "cell_type": "code",
   "execution_count": 9,
   "id": "e0773e42-cb8d-4bcb-b8a1-512bb4b477cc",
   "metadata": {},
   "outputs": [],
   "source": [
    "\"Creating LIst\"\n",
    "l=[]\n",
    "for i in range(1,101):\n",
    "    l.append(i)"
   ]
  },
  {
   "cell_type": "code",
   "execution_count": 14,
   "id": "0368ec91-db49-44e8-8892-abe2c8faf54f",
   "metadata": {},
   "outputs": [
    {
     "name": "stdout",
     "output_type": "stream",
     "text": [
      "[2, 4, 5, 6, 8, 10, 12, 14, 15, 16, 18, 20, 22, 24, 25, 26, 28, 30, 32, 34, 35, 36, 38, 40, 42, 44, 45, 46, 48, 50, 52, 54, 55, 56, 58, 60, 62, 64, 65, 66, 68, 70, 72, 74, 75, 76, 78, 80, 82, 84, 85, 86, 88, 90, 92, 94, 95, 96, 98, 100]\n"
     ]
    }
   ],
   "source": [
    "\"Using with for Loop\"\n",
    "l1=[]\n",
    "for i in l:\n",
    "    if (i**3)%4==0 or (i**3)%5==0:\n",
    "        l1.append(i)\n",
    "print(l1)        "
   ]
  },
  {
   "cell_type": "code",
   "execution_count": 2,
   "id": "9c7d9506-c780-4150-be59-93b6ce70ccb4",
   "metadata": {},
   "outputs": [
    {
     "name": "stdout",
     "output_type": "stream",
     "text": [
      "[2, 4, 5, 6, 8, 10, 12, 14, 15, 16, 18, 20, 22, 24, 25, 26, 28, 30, 32, 34, 35, 36, 38, 40, 42, 44, 45, 46, 48, 50, 52, 54, 55, 56, 58, 60, 62, 64, 65, 66, 68, 70, 72, 74, 75, 76, 78, 80, 82, 84, 85, 86, 88, 90, 92, 94, 95, 96, 98, 100]\n"
     ]
    }
   ],
   "source": [
    "\"Using with While loop\"\n",
    "l2=[]\n",
    "count =1\n",
    "while count<=100:\n",
    "    if (count**3)%4==0 or (count**3)%5==0:\n",
    "        l2.append(count)\n",
    "    count=count+1\n",
    "print(l2)"
   ]
  },
  {
   "cell_type": "code",
   "execution_count": null,
   "id": "251f6f42-ae0c-4513-91c5-6c25f4517bb5",
   "metadata": {},
   "outputs": [],
   "source": [
    "Q5. Write a program to filter count vowels in the below-given string.\n",
    "string = \"I want to become a data scientist\""
   ]
  },
  {
   "cell_type": "code",
   "execution_count": 6,
   "id": "df174dfb-f71d-4607-935f-52da0ede45ef",
   "metadata": {},
   "outputs": [
    {
     "name": "stdout",
     "output_type": "stream",
     "text": [
      "count of vowel in string is 12\n",
      "Vowels in string is ['I', 'a', 'o', 'e', 'o', 'e', 'a', 'a', 'a', 'i', 'e', 'i']\n"
     ]
    }
   ],
   "source": [
    "string = \"I want to become a data scientist\"\n",
    "count=0\n",
    "vowel_list=[]\n",
    "for i in string:\n",
    "    if i=='a'or i=='e'or i=='i'or i=='o'or i=='u'or i=='A'or i=='E'or i=='I'or i=='O'or i=='U':\n",
    "        count=count+1\n",
    "        vowel_list.append(i)\n",
    "print(\"count of vowel in string is\",count)\n",
    "print(\"Vowels in string is\",vowel_list)\n",
    "        "
   ]
  }
 ],
 "metadata": {
  "kernelspec": {
   "display_name": "Python 3 (ipykernel)",
   "language": "python",
   "name": "python3"
  },
  "language_info": {
   "codemirror_mode": {
    "name": "ipython",
    "version": 3
   },
   "file_extension": ".py",
   "mimetype": "text/x-python",
   "name": "python",
   "nbconvert_exporter": "python",
   "pygments_lexer": "ipython3",
   "version": "3.10.8"
  }
 },
 "nbformat": 4,
 "nbformat_minor": 5
}
